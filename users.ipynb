{
 "cells": [
  {
   "cell_type": "markdown",
   "metadata": {},
   "source": [
    "# Análisis de Usuaries\n",
    "\n",
    "En ese notebook se van a analizar los csvs que contienen información de les usuaries. Dentro de la carpeta `data/` se encuentran los archivos `users_junio.csv` y `users_agosto.csv`, que contienen les usuaries que twitearon para el tratamiento de Diputados y de Senadores, respectivamente. \n",
    "\n",
    "En ambos casos, las columnas que tiene la tabla de datos son las siguientes:\n",
    "\n",
    "|    Columnas   |  Descripción  |\n",
    "| ------------- | ------------- |\n",
    "| `screen_name` | Nombre de la cuenta | \n",
    "| `location`    | Ubicación de la cuenta | \n",
    "| `followers_count`    | Cantidad de seguidores | \n",
    "| `statuses_count`    | Cantidad de tweets que escribió/retuiteó la cuenta en toda su historia. | \n",
    "| `description`    | Descripción de la cuenta | \n",
    "| `friends_count`    | Cantidad de seguidos | \n",
    "| `favourites_count`    | Cantidad de favs que la cuenta dió en toda su historia. | \n",
    "| `created_at`    | Fecha de creación de la cuenta | \n",
    "| `id`    | ID de la cuenta | \n",
    "| `name`    | Nombre completo que se le pone a la cuenta | \n",
    "| `verified`    | Si la cuenta está verificada o no (por ejemplo para les famoses) | \n",
    "\n"
   ]
  },
  {
   "cell_type": "code",
   "execution_count": 7,
   "metadata": {},
   "outputs": [],
   "source": [
    "import pandas as pd\n",
    "import matplotlib.pyplot as plt\n",
    "import seaborn as sns\n",
    "%matplotlib inline\n",
    "plt.rcParams['figure.figsize'] = (10, 6)"
   ]
  },
  {
   "cell_type": "markdown",
   "metadata": {},
   "source": [
    "## Diputades (junio/2018)"
   ]
  },
  {
   "cell_type": "code",
   "execution_count": 2,
   "metadata": {},
   "outputs": [],
   "source": [
    "df_users_junio =  pd.read_csv('data/users_junio.csv', parse_dates=['created_at'])"
   ]
  },
  {
   "cell_type": "code",
   "execution_count": 3,
   "metadata": {},
   "outputs": [
    {
     "data": {
      "text/html": [
       "<div>\n",
       "<style scoped>\n",
       "    .dataframe tbody tr th:only-of-type {\n",
       "        vertical-align: middle;\n",
       "    }\n",
       "\n",
       "    .dataframe tbody tr th {\n",
       "        vertical-align: top;\n",
       "    }\n",
       "\n",
       "    .dataframe thead th {\n",
       "        text-align: right;\n",
       "    }\n",
       "</style>\n",
       "<table border=\"1\" class=\"dataframe\">\n",
       "  <thead>\n",
       "    <tr style=\"text-align: right;\">\n",
       "      <th></th>\n",
       "      <th>screen_name</th>\n",
       "      <th>location</th>\n",
       "      <th>followers_count</th>\n",
       "      <th>statuses_count</th>\n",
       "      <th>description</th>\n",
       "      <th>friends_count</th>\n",
       "      <th>favourites_count</th>\n",
       "      <th>created_at</th>\n",
       "      <th>id</th>\n",
       "      <th>name</th>\n",
       "      <th>verified</th>\n",
       "    </tr>\n",
       "  </thead>\n",
       "  <tbody>\n",
       "    <tr>\n",
       "      <th>185482</th>\n",
       "      <td>jpjs04</td>\n",
       "      <td>NaN</td>\n",
       "      <td>557</td>\n",
       "      <td>20428</td>\n",
       "      <td>Todo sigue igual de bien | Egresado Gymnasium ...</td>\n",
       "      <td>462</td>\n",
       "      <td>5943</td>\n",
       "      <td>2012-11-20 01:45:59+00:00</td>\n",
       "      <td>959218464</td>\n",
       "      <td>Juan Pablo</td>\n",
       "      <td>False</td>\n",
       "    </tr>\n",
       "    <tr>\n",
       "      <th>221051</th>\n",
       "      <td>NE_UBA</td>\n",
       "      <td>NaN</td>\n",
       "      <td>1756</td>\n",
       "      <td>3263</td>\n",
       "      <td>Militamos todos los días por una UBA popular, ...</td>\n",
       "      <td>182</td>\n",
       "      <td>571</td>\n",
       "      <td>2013-05-24 20:55:05+00:00</td>\n",
       "      <td>1455252175</td>\n",
       "      <td>Nuevo Encuentro UBA</td>\n",
       "      <td>False</td>\n",
       "    </tr>\n",
       "    <tr>\n",
       "      <th>19472</th>\n",
       "      <td>JudiM777</td>\n",
       "      <td>Rosario del Talá, Argentina</td>\n",
       "      <td>327</td>\n",
       "      <td>7247</td>\n",
       "      <td>18💫  I will fly with no hope, no fear</td>\n",
       "      <td>366</td>\n",
       "      <td>7594</td>\n",
       "      <td>2017-05-04 22:43:52+00:00</td>\n",
       "      <td>860263734769590272</td>\n",
       "      <td>🌙</td>\n",
       "      <td>False</td>\n",
       "    </tr>\n",
       "  </tbody>\n",
       "</table>\n",
       "</div>"
      ],
      "text/plain": [
       "       screen_name                     location  followers_count  \\\n",
       "185482      jpjs04                          NaN              557   \n",
       "221051      NE_UBA                          NaN             1756   \n",
       "19472     JudiM777  Rosario del Talá, Argentina              327   \n",
       "\n",
       "        statuses_count                                        description  \\\n",
       "185482           20428  Todo sigue igual de bien | Egresado Gymnasium ...   \n",
       "221051            3263  Militamos todos los días por una UBA popular, ...   \n",
       "19472             7247              18💫  I will fly with no hope, no fear   \n",
       "\n",
       "        friends_count  favourites_count                created_at  \\\n",
       "185482            462              5943 2012-11-20 01:45:59+00:00   \n",
       "221051            182               571 2013-05-24 20:55:05+00:00   \n",
       "19472             366              7594 2017-05-04 22:43:52+00:00   \n",
       "\n",
       "                        id                 name  verified  \n",
       "185482           959218464           Juan Pablo     False  \n",
       "221051          1455252175  Nuevo Encuentro UBA     False  \n",
       "19472   860263734769590272                    🌙     False  "
      ]
     },
     "execution_count": 3,
     "metadata": {},
     "output_type": "execute_result"
    }
   ],
   "source": [
    "df_users_junio.sample(3)"
   ]
  },
  {
   "cell_type": "code",
   "execution_count": 4,
   "metadata": {},
   "outputs": [
    {
     "data": {
      "text/plain": [
       "329782"
      ]
     },
     "execution_count": 4,
     "metadata": {},
     "output_type": "execute_result"
    }
   ],
   "source": [
    "len(df_users_junio)"
   ]
  },
  {
   "cell_type": "markdown",
   "metadata": {},
   "source": [
    "Se puede ver que para el tratamiento de la ILE en Diputados, se cuenta con tweets de aproximadamente 330mil usuaries."
   ]
  },
  {
   "cell_type": "code",
   "execution_count": 5,
   "metadata": {},
   "outputs": [
    {
     "data": {
      "text/plain": [
       "False    329050\n",
       "True        732\n",
       "Name: verified, dtype: int64"
      ]
     },
     "execution_count": 5,
     "metadata": {},
     "output_type": "execute_result"
    }
   ],
   "source": [
    "df_users_junio.verified.value_counts()"
   ]
  },
  {
   "cell_type": "markdown",
   "metadata": {},
   "source": [
    "Del total de esa cantidad de usuaries, hay 732 usuaries verificados, que suelen ser figuras públicas, medios de comunicación, etc."
   ]
  },
  {
   "cell_type": "code",
   "execution_count": 8,
   "metadata": {},
   "outputs": [
    {
     "data": {
      "image/png": "[encoded data removed]",
      "text/plain": [
       "<Figure size 720x432 with 1 Axes>"
      ]
     },
     "metadata": {
      "needs_background": "light"
     },
     "output_type": "display_data"
    }
   ],
   "source": [
    "df_users_junio[\"created_at\"].groupby(df_users_junio[\"created_at\"].dt.year).count().plot(kind=\"bar\")\n",
    "plt.show()"
   ]
  },
  {
   "cell_type": "markdown",
   "metadata": {},
   "source": [
    "Podemos ver por ejemplo la cantidad de cuentas registradas por año, de las cuentas de las que se tiene datos.\n",
    "\n",
    "## Senadores (agosto/2018)"
   ]
  },
  {
   "cell_type": "code",
   "execution_count": 9,
   "metadata": {},
   "outputs": [],
   "source": [
    "df_users_agosto =  pd.read_csv('data/users_agosto.csv', parse_dates=['created_at'])"
   ]
  },
  {
   "cell_type": "code",
   "execution_count": 10,
   "metadata": {},
   "outputs": [
    {
     "data": {
      "text/plain": [
       "74324"
      ]
     },
     "execution_count": 10,
     "metadata": {},
     "output_type": "execute_result"
    }
   ],
   "source": [
    "len(df_users_agosto)"
   ]
  },
  {
   "cell_type": "code",
   "execution_count": 11,
   "metadata": {},
   "outputs": [
    {
     "data": {
      "text/plain": [
       "False    73946\n",
       "True       378\n",
       "Name: verified, dtype: int64"
      ]
     },
     "execution_count": 11,
     "metadata": {},
     "output_type": "execute_result"
    }
   ],
   "source": [
    "df_users_agosto.verified.value_counts()"
   ]
  },
  {
   "cell_type": "markdown",
   "metadata": {},
   "source": [
    "Para el dataset que se tiene de les usuaries que twittearon en Agosto para la sesión de Senadores, se cuenta con un menor volumen de datos. Se tiene registro de alrededor de 75k de usuaries, con 378 cuentas verificadas."
   ]
  },
  {
   "cell_type": "code",
   "execution_count": 12,
   "metadata": {},
   "outputs": [
    {
     "data": {
      "image/png": "[encoded data removed]",
      "text/plain": [
       "<Figure size 720x432 with 1 Axes>"
      ]
     },
     "metadata": {
      "needs_background": "light"
     },
     "output_type": "display_data"
    }
   ],
   "source": [
    "df_users_agosto[\"created_at\"].groupby(df_users_agosto[\"created_at\"].dt.year).count().plot(kind=\"bar\")\n",
    "plt.show()"
   ]
  },
  {
   "cell_type": "code",
   "execution_count": null,
   "metadata": {},
   "outputs": [],
   "source": []
  }
 ],
 "metadata": {
  "kernelspec": {
   "display_name": "Python 3",
   "language": "python",
   "name": "python3"
  },
  "language_info": {
   "codemirror_mode": {
    "name": "ipython",
    "version": 3
   },
   "file_extension": ".py",
   "mimetype": "text/x-python",
   "name": "python",
   "nbconvert_exporter": "python",
   "pygments_lexer": "ipython3",
   "version": "3.7.2"
  }
 },
 "nbformat": 4,
 "nbformat_minor": 2
}
