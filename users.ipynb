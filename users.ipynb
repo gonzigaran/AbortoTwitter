{
 "cells": [
  {
   "cell_type": "markdown",
   "metadata": {},
   "source": [
    "# Análisis de Usuarios\n",
    "\n",
    "En ese notebook se van a analizar los csvs que contienen información de les usuaries. Dentro de la carpeta `data/` se encuentran los archivos `users_junio.csv` y `users_agosto.csv`, que contienen les usuaries que twitearon para el tratamiento de Diputados y de Senadores, respectivamente. \n",
    "\n",
    "En ambos casos, las columnas que tiene la tabla de datos son las siguientes:\n",
    "\n",
    "|    Columnas   |  Descripción  |\n",
    "| ------------- | ------------- |\n",
    "| `screen_name` | Nombre de la cuenta | \n",
    "| `location`    | Ubicación de la cuenta | \n",
    "| `followers_count`    | Cantidad de seguidores | \n",
    "| `statuses_count`    | Cantidad de tweets que escribió/retuiteó la cuenta en toda su historia. | \n",
    "| `description`    | Descripción de la cuenta | \n",
    "| `friends_count`    | Cantidad de seguidos | \n",
    "| `favourites_count`    | Cantidad de favs que la cuenta dió en toda su historia. | \n",
    "| `created_at`    | Fecha de creación de la cuenta | \n",
    "| `id`    | ID de la cuenta | \n",
    "| `name`    | Nombre completo que se le pone a la cuenta | \n",
    "| `verified`    | Si la cuenta está verificada o no (por ejemplo para les famoses) | \n",
    "\n"
   ]
  },
  {
   "cell_type": "code",
   "execution_count": 6,
   "metadata": {},
   "outputs": [],
   "source": [
    "import pandas as pd\n",
    "import matplotlib.pyplot as plt\n",
    "import seaborn as sns\n",
    "%matplotlib inline\n",
    "plt.rcParams['figure.figsize'] = (12, 8)"
   ]
  },
  {
   "cell_type": "markdown",
   "metadata": {},
   "source": [
    "## Diputades (junio/2018)"
   ]
  },
  {
   "cell_type": "code",
   "execution_count": 2,
   "metadata": {},
   "outputs": [],
   "source": [
    "df_users_junio =  pd.read_csv('data/users_junio.csv', parse_dates=['created_at'])"
   ]
  },
  {
   "cell_type": "code",
   "execution_count": 3,
   "metadata": {},
   "outputs": [
    {
     "data": {
      "text/html": [
       "<div>\n",
       "<style scoped>\n",
       "    .dataframe tbody tr th:only-of-type {\n",
       "        vertical-align: middle;\n",
       "    }\n",
       "\n",
       "    .dataframe tbody tr th {\n",
       "        vertical-align: top;\n",
       "    }\n",
       "\n",
       "    .dataframe thead th {\n",
       "        text-align: right;\n",
       "    }\n",
       "</style>\n",
       "<table border=\"1\" class=\"dataframe\">\n",
       "  <thead>\n",
       "    <tr style=\"text-align: right;\">\n",
       "      <th></th>\n",
       "      <th>screen_name</th>\n",
       "      <th>location</th>\n",
       "      <th>followers_count</th>\n",
       "      <th>statuses_count</th>\n",
       "      <th>description</th>\n",
       "      <th>friends_count</th>\n",
       "      <th>favourites_count</th>\n",
       "      <th>created_at</th>\n",
       "      <th>id</th>\n",
       "      <th>name</th>\n",
       "      <th>verified</th>\n",
       "    </tr>\n",
       "  </thead>\n",
       "  <tbody>\n",
       "    <tr>\n",
       "      <th>11722</th>\n",
       "      <td>StxpidPrincess</td>\n",
       "      <td>away from BTS 💕</td>\n",
       "      <td>12</td>\n",
       "      <td>1129</td>\n",
       "      <td>❝The Truth Untold❞ ʙᴛs, sᴛᴇᴠᴇ ᴀᴏᴋɪ            ...</td>\n",
       "      <td>47</td>\n",
       "      <td>2163</td>\n",
       "      <td>2018-01-20 22:53:00</td>\n",
       "      <td>954849266719166465</td>\n",
       "      <td>❍┆공주</td>\n",
       "      <td>False</td>\n",
       "    </tr>\n",
       "    <tr>\n",
       "      <th>128125</th>\n",
       "      <td>jstrangelycrazy</td>\n",
       "      <td>NaN</td>\n",
       "      <td>6</td>\n",
       "      <td>35</td>\n",
       "      <td>NaN</td>\n",
       "      <td>65</td>\n",
       "      <td>170</td>\n",
       "      <td>2017-09-28 14:36:54</td>\n",
       "      <td>913412205474959363</td>\n",
       "      <td>Jessica Puente</td>\n",
       "      <td>False</td>\n",
       "    </tr>\n",
       "    <tr>\n",
       "      <th>19765</th>\n",
       "      <td>LeiiVergara2</td>\n",
       "      <td>Argentina</td>\n",
       "      <td>826</td>\n",
       "      <td>18924</td>\n",
       "      <td>Just a girl living the life🌟</td>\n",
       "      <td>1986</td>\n",
       "      <td>19889</td>\n",
       "      <td>2011-08-24 14:32:13</td>\n",
       "      <td>361266470</td>\n",
       "      <td>Leii✌</td>\n",
       "      <td>False</td>\n",
       "    </tr>\n",
       "  </tbody>\n",
       "</table>\n",
       "</div>"
      ],
      "text/plain": [
       "            screen_name         location  followers_count  statuses_count  \\\n",
       "11722    StxpidPrincess  away from BTS 💕               12            1129   \n",
       "128125  jstrangelycrazy              NaN                6              35   \n",
       "19765      LeiiVergara2       Argentina               826           18924   \n",
       "\n",
       "                                              description  friends_count  \\\n",
       "11722   ❝The Truth Untold❞ ʙᴛs, sᴛᴇᴠᴇ ᴀᴏᴋɪ            ...             47   \n",
       "128125                                                NaN             65   \n",
       "19765                        Just a girl living the life🌟           1986   \n",
       "\n",
       "        favourites_count          created_at                  id  \\\n",
       "11722               2163 2018-01-20 22:53:00  954849266719166465   \n",
       "128125               170 2017-09-28 14:36:54  913412205474959363   \n",
       "19765              19889 2011-08-24 14:32:13           361266470   \n",
       "\n",
       "                  name  verified  \n",
       "11722             ❍┆공주     False  \n",
       "128125  Jessica Puente     False  \n",
       "19765            Leii✌     False  "
      ]
     },
     "execution_count": 3,
     "metadata": {},
     "output_type": "execute_result"
    }
   ],
   "source": [
    "df_users_junio.sample(3)"
   ]
  },
  {
   "cell_type": "code",
   "execution_count": 4,
   "metadata": {},
   "outputs": [
    {
     "data": {
      "text/plain": [
       "329782"
      ]
     },
     "execution_count": 4,
     "metadata": {},
     "output_type": "execute_result"
    }
   ],
   "source": [
    "len(df_users_junio)"
   ]
  },
  {
   "cell_type": "markdown",
   "metadata": {},
   "source": [
    "Se puede ver que para el tratamiento de la ILE en Diputados, se cuenta con tweets de aproximadamente 330mil usuaries."
   ]
  },
  {
   "cell_type": "code",
   "execution_count": 5,
   "metadata": {},
   "outputs": [
    {
     "data": {
      "text/plain": [
       "False    329050\n",
       "True        732\n",
       "Name: verified, dtype: int64"
      ]
     },
     "execution_count": 5,
     "metadata": {},
     "output_type": "execute_result"
    }
   ],
   "source": [
    "df_users_junio.verified.value_counts()"
   ]
  },
  {
   "cell_type": "markdown",
   "metadata": {},
   "source": [
    "Del total de esa cantidad de usuaries, hay 732 usuaries verificados, que suelen ser figuras públicas, medios de comunicación, etc."
   ]
  },
  {
   "cell_type": "code",
   "execution_count": 32,
   "metadata": {},
   "outputs": [
    {
     "data": {
      "image/png": "[encoded data removed]",
      "text/plain": [
       "<Figure size 864x576 with 1 Axes>"
      ]
     },
     "metadata": {
      "needs_background": "light"
     },
     "output_type": "display_data"
    }
   ],
   "source": [
    "df_users_junio[\"created_at\"].groupby(df_users_junio[\"created_at\"].dt.year).count().plot(kind=\"bar\")\n",
    "plt.show()"
   ]
  },
  {
   "cell_type": "markdown",
   "metadata": {},
   "source": [
    "Podemos ver por ejemplo la cantidad de cuentas registradas por año, de las cuentas de las que se tiene datos.\n",
    "\n",
    "## Senadores (agosto/2018)"
   ]
  },
  {
   "cell_type": "code",
   "execution_count": 2,
   "metadata": {},
   "outputs": [],
   "source": [
    "df_users_agosto =  pd.read_csv('data/users_agosto.csv', parse_dates=['created_at'])"
   ]
  },
  {
   "cell_type": "code",
   "execution_count": 3,
   "metadata": {},
   "outputs": [
    {
     "data": {
      "text/plain": [
       "74324"
      ]
     },
     "execution_count": 3,
     "metadata": {},
     "output_type": "execute_result"
    }
   ],
   "source": [
    "len(df_users_agosto)"
   ]
  },
  {
   "cell_type": "code",
   "execution_count": 4,
   "metadata": {},
   "outputs": [
    {
     "data": {
      "text/plain": [
       "False    73946\n",
       "True       378\n",
       "Name: verified, dtype: int64"
      ]
     },
     "execution_count": 4,
     "metadata": {},
     "output_type": "execute_result"
    }
   ],
   "source": [
    "df_users_agosto.verified.value_counts()"
   ]
  },
  {
   "cell_type": "markdown",
   "metadata": {},
   "source": [
    "Para el dataset que se tiene de les usuaries que twittearon en Agosto para la sesión de Senadores, se cuenta con un menor volumen de datos. Se tiene registro de alrededor de 75k de usuaries, con 378 cuentas verificadas."
   ]
  },
  {
   "cell_type": "code",
   "execution_count": 7,
   "metadata": {},
   "outputs": [
    {
     "data": {
      "image/png": "[encoded data removed]",
      "text/plain": [
       "<Figure size 864x576 with 1 Axes>"
      ]
     },
     "metadata": {
      "needs_background": "light"
     },
     "output_type": "display_data"
    }
   ],
   "source": [
    "df_users_agosto[\"created_at\"].groupby(df_users_agosto[\"created_at\"].dt.year).count().plot(kind=\"bar\")\n",
    "plt.show()"
   ]
  }
 ],
 "metadata": {
  "kernelspec": {
   "display_name": "Python 3",
   "language": "python",
   "name": "python3"
  },
  "language_info": {
   "codemirror_mode": {
    "name": "ipython",
    "version": 3
   },
   "file_extension": ".py",
   "mimetype": "text/x-python",
   "name": "python",
   "nbconvert_exporter": "python",
   "pygments_lexer": "ipython3",
   "version": "3.7.2"
  }
 },
 "nbformat": 4,
 "nbformat_minor": 2
}
