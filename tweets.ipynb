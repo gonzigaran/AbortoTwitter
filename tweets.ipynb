{
 "cells": [
  {
   "cell_type": "markdown",
   "metadata": {},
   "source": [
    "# Análisis de Tweets\n",
    "\n",
    "En ese notebook se van a analizar los csvs que contienen información de los tweets recolectados. Dentro de la carpeta `data/` se encuentran los archivos `tweets_junio.csv` y `tweets_agosto.csv`, que contienen los tweets relacionados con el tratamiento de Diputados y de Senadores, respectivamente. \n",
    "\n",
    "En el proceso de descarga de los tweets, Twitter provee mucha información sobre cada tweet en un formato `JSON`. Esta información fue preprocesada, comprimida y llevada a una tabla de datos `csv`.\n",
    "\n",
    "En ambos casos, las columnas que tiene la tabla de datos son las siguientes:\n",
    "\n",
    "\n",
    "|    Columnas   |  Descripción  |\n",
    "| ------------- | ------------- |\n",
    "| `id` | ID del tweets | \n",
    "| `created_at` | Fecha de creación del tweets | \n",
    "| `favorite_count` | Cantidad de favoritos que tiene el tweet | \n",
    "| `retweet_count` | Cantidad de retweet del tweet | \n",
    "| `full_text` | Texto completo del tweet | \n",
    "| `posicion` | Posición que se tiene con respecto al aborto de acuerdo a *hashtags* usados. | \n",
    "| `favorited` | Si el tweet recibió algún like | \n",
    "| `retweeted` | Si el tweet recibió algún retweet | \n",
    "| `user_name` | *username* de la cuenta que realiza el tweet | \n",
    "| `user_id` | ID de la cuenta que realiza el tweet | \n",
    "| `original_id` | En el caso de que el tweet sea un retweet, te da el id del tweet. Si no, coincide con el `id` | \n"
   ]
  },
  {
   "cell_type": "code",
   "execution_count": 6,
   "metadata": {},
   "outputs": [],
   "source": [
    "import pandas as pd\n",
    "import matplotlib.pyplot as plt\n",
    "import seaborn as sns\n",
    "%matplotlib inline\n",
    "plt.rcParams['figure.figsize'] = (10, 6)"
   ]
  },
  {
   "cell_type": "markdown",
   "metadata": {},
   "source": [
    "## Diputades (junio/2018)"
   ]
  },
  {
   "cell_type": "code",
   "execution_count": 2,
   "metadata": {},
   "outputs": [],
   "source": [
    "df_tweets_junio =  pd.read_csv('data/tweets_junio.csv', parse_dates=['created_at'])"
   ]
  },
  {
   "cell_type": "code",
   "execution_count": 3,
   "metadata": {},
   "outputs": [
    {
     "data": {
      "text/html": [
       "<div>\n",
       "<style scoped>\n",
       "    .dataframe tbody tr th:only-of-type {\n",
       "        vertical-align: middle;\n",
       "    }\n",
       "\n",
       "    .dataframe tbody tr th {\n",
       "        vertical-align: top;\n",
       "    }\n",
       "\n",
       "    .dataframe thead th {\n",
       "        text-align: right;\n",
       "    }\n",
       "</style>\n",
       "<table border=\"1\" class=\"dataframe\">\n",
       "  <thead>\n",
       "    <tr style=\"text-align: right;\">\n",
       "      <th></th>\n",
       "      <th>id</th>\n",
       "      <th>created_at</th>\n",
       "      <th>favorite_count</th>\n",
       "      <th>retweet_count</th>\n",
       "      <th>full_text</th>\n",
       "      <th>posicion</th>\n",
       "      <th>favorited</th>\n",
       "      <th>retweeted</th>\n",
       "      <th>user_name</th>\n",
       "      <th>user_id</th>\n",
       "      <th>original_id</th>\n",
       "    </tr>\n",
       "  </thead>\n",
       "  <tbody>\n",
       "    <tr>\n",
       "      <th>191294</th>\n",
       "      <td>1006577655783874566</td>\n",
       "      <td>2018-06-12 16:43:09+00:00</td>\n",
       "      <td>0</td>\n",
       "      <td>0</td>\n",
       "      <td>@FlorHalfon Me parece mas loable como llegó el...</td>\n",
       "      <td>si</td>\n",
       "      <td>False</td>\n",
       "      <td>False</td>\n",
       "      <td>Cristian Saiz</td>\n",
       "      <td>785822262494629888</td>\n",
       "      <td>1006577655783874566</td>\n",
       "    </tr>\n",
       "    <tr>\n",
       "      <th>708356</th>\n",
       "      <td>1007336649594933250</td>\n",
       "      <td>2018-06-14 18:59:07+00:00</td>\n",
       "      <td>0</td>\n",
       "      <td>31</td>\n",
       "      <td>RT @tenemosdemocrax: Mi postura frente al abor...</td>\n",
       "      <td>si</td>\n",
       "      <td>False</td>\n",
       "      <td>False</td>\n",
       "      <td>José E. Correa</td>\n",
       "      <td>1000763719880794112</td>\n",
       "      <td>1007336649594933250</td>\n",
       "    </tr>\n",
       "    <tr>\n",
       "      <th>115342</th>\n",
       "      <td>1006211226559500288</td>\n",
       "      <td>2018-06-11 16:27:05+00:00</td>\n",
       "      <td>0</td>\n",
       "      <td>381</td>\n",
       "      <td>RT @actrices_arg: Las @actrices_arg somos un g...</td>\n",
       "      <td>si</td>\n",
       "      <td>False</td>\n",
       "      <td>False</td>\n",
       "      <td>DIEGO TARRAGONA</td>\n",
       "      <td>408225991</td>\n",
       "      <td>1006211226559500288</td>\n",
       "    </tr>\n",
       "  </tbody>\n",
       "</table>\n",
       "</div>"
      ],
      "text/plain": [
       "                         id                created_at  favorite_count  \\\n",
       "191294  1006577655783874566 2018-06-12 16:43:09+00:00               0   \n",
       "708356  1007336649594933250 2018-06-14 18:59:07+00:00               0   \n",
       "115342  1006211226559500288 2018-06-11 16:27:05+00:00               0   \n",
       "\n",
       "        retweet_count                                          full_text  \\\n",
       "191294              0  @FlorHalfon Me parece mas loable como llegó el...   \n",
       "708356             31  RT @tenemosdemocrax: Mi postura frente al abor...   \n",
       "115342            381  RT @actrices_arg: Las @actrices_arg somos un g...   \n",
       "\n",
       "       posicion  favorited  retweeted        user_name              user_id  \\\n",
       "191294       si      False      False    Cristian Saiz   785822262494629888   \n",
       "708356       si      False      False   José E. Correa  1000763719880794112   \n",
       "115342       si      False      False  DIEGO TARRAGONA            408225991   \n",
       "\n",
       "                original_id  \n",
       "191294  1006577655783874566  \n",
       "708356  1007336649594933250  \n",
       "115342  1006211226559500288  "
      ]
     },
     "execution_count": 3,
     "metadata": {},
     "output_type": "execute_result"
    }
   ],
   "source": [
    "df_tweets_junio.sample(3)"
   ]
  },
  {
   "cell_type": "code",
   "execution_count": 4,
   "metadata": {},
   "outputs": [
    {
     "data": {
      "text/plain": [
       "1041585"
      ]
     },
     "execution_count": 4,
     "metadata": {},
     "output_type": "execute_result"
    }
   ],
   "source": [
    "len(df_tweets_junio)"
   ]
  },
  {
   "cell_type": "markdown",
   "metadata": {},
   "source": [
    "Podemos ver que para el mes de Junio (tratamiento en Diputados) se cuenta con un poco más de un millon de tweets ."
   ]
  },
  {
   "cell_type": "code",
   "execution_count": 7,
   "metadata": {},
   "outputs": [
    {
     "data": {
      "image/png": "[encoded data removed]",
      "text/plain": [
       "<Figure size 720x432 with 1 Axes>"
      ]
     },
     "metadata": {
      "needs_background": "light"
     },
     "output_type": "display_data"
    }
   ],
   "source": [
    "df_tweets_junio[\"created_at\"].groupby(df_tweets_junio[\"created_at\"].dt.day).count().plot(kind=\"bar\")\n",
    "plt.show()"
   ]
  },
  {
   "cell_type": "markdown",
   "metadata": {},
   "source": [
    "En este gráfico podemos ver los días en los que se twitteo, y como hay muchos tweets más en el día de la sesión (el 13 de Junio) y un día despues que fue cuando terminó la sesión. "
   ]
  },
  {
   "cell_type": "markdown",
   "metadata": {},
   "source": [
    "## Senadores (agosto/2018)"
   ]
  },
  {
   "cell_type": "code",
   "execution_count": 8,
   "metadata": {},
   "outputs": [],
   "source": [
    "df_tweets_agosto =  pd.read_csv('data/tweets_agosto.csv', parse_dates=['created_at'])"
   ]
  },
  {
   "cell_type": "code",
   "execution_count": 9,
   "metadata": {},
   "outputs": [
    {
     "data": {
      "text/html": [
       "<div>\n",
       "<style scoped>\n",
       "    .dataframe tbody tr th:only-of-type {\n",
       "        vertical-align: middle;\n",
       "    }\n",
       "\n",
       "    .dataframe tbody tr th {\n",
       "        vertical-align: top;\n",
       "    }\n",
       "\n",
       "    .dataframe thead th {\n",
       "        text-align: right;\n",
       "    }\n",
       "</style>\n",
       "<table border=\"1\" class=\"dataframe\">\n",
       "  <thead>\n",
       "    <tr style=\"text-align: right;\">\n",
       "      <th></th>\n",
       "      <th>id</th>\n",
       "      <th>created_at</th>\n",
       "      <th>favorite_count</th>\n",
       "      <th>retweet_count</th>\n",
       "      <th>text</th>\n",
       "      <th>favorited</th>\n",
       "      <th>retweeted</th>\n",
       "      <th>user_name</th>\n",
       "      <th>user_id</th>\n",
       "      <th>original_id</th>\n",
       "    </tr>\n",
       "  </thead>\n",
       "  <tbody>\n",
       "    <tr>\n",
       "      <th>115372</th>\n",
       "      <td>1025415937464389632</td>\n",
       "      <td>2018-08-03 16:19:45+00:00</td>\n",
       "      <td>0</td>\n",
       "      <td>0</td>\n",
       "      <td>RT @PatoBullrich: Esta son los resultados de l...</td>\n",
       "      <td>False</td>\n",
       "      <td>False</td>\n",
       "      <td>Nano #PeronismoCáncerPolítico 🇦🇷</td>\n",
       "      <td>71080518</td>\n",
       "      <td>1025415937464389632</td>\n",
       "    </tr>\n",
       "    <tr>\n",
       "      <th>107126</th>\n",
       "      <td>1025408559553687552</td>\n",
       "      <td>2018-08-03 15:50:26+00:00</td>\n",
       "      <td>0</td>\n",
       "      <td>0</td>\n",
       "      <td>RT @Gracemazzola: ⚠️Muy buena noticia: cosecha...</td>\n",
       "      <td>False</td>\n",
       "      <td>False</td>\n",
       "      <td>#CiberTropaMachirula💪💪💪</td>\n",
       "      <td>2441415280</td>\n",
       "      <td>1025408559553687552</td>\n",
       "    </tr>\n",
       "    <tr>\n",
       "      <th>58327</th>\n",
       "      <td>1025346636770361344</td>\n",
       "      <td>2018-08-03 11:44:22+00:00</td>\n",
       "      <td>0</td>\n",
       "      <td>0</td>\n",
       "      <td>Lo sigo! Y me sumo a las radicales que esperam...</td>\n",
       "      <td>False</td>\n",
       "      <td>False</td>\n",
       "      <td>Andrea Triolo💚</td>\n",
       "      <td>721397475802816513</td>\n",
       "      <td>1025346636770361344</td>\n",
       "    </tr>\n",
       "  </tbody>\n",
       "</table>\n",
       "</div>"
      ],
      "text/plain": [
       "                         id                created_at  favorite_count  \\\n",
       "115372  1025415937464389632 2018-08-03 16:19:45+00:00               0   \n",
       "107126  1025408559553687552 2018-08-03 15:50:26+00:00               0   \n",
       "58327   1025346636770361344 2018-08-03 11:44:22+00:00               0   \n",
       "\n",
       "        retweet_count                                               text  \\\n",
       "115372              0  RT @PatoBullrich: Esta son los resultados de l...   \n",
       "107126              0  RT @Gracemazzola: ⚠️Muy buena noticia: cosecha...   \n",
       "58327               0  Lo sigo! Y me sumo a las radicales que esperam...   \n",
       "\n",
       "        favorited  retweeted                         user_name  \\\n",
       "115372      False      False  Nano #PeronismoCáncerPolítico 🇦🇷   \n",
       "107126      False      False           #CiberTropaMachirula💪💪💪   \n",
       "58327       False      False                    Andrea Triolo💚   \n",
       "\n",
       "                   user_id          original_id  \n",
       "115372            71080518  1025415937464389632  \n",
       "107126          2441415280  1025408559553687552  \n",
       "58327   721397475802816513  1025346636770361344  "
      ]
     },
     "execution_count": 9,
     "metadata": {},
     "output_type": "execute_result"
    }
   ],
   "source": [
    "df_tweets_agosto.sample(3)"
   ]
  },
  {
   "cell_type": "code",
   "execution_count": 10,
   "metadata": {},
   "outputs": [
    {
     "data": {
      "text/plain": [
       "120902"
      ]
     },
     "execution_count": 10,
     "metadata": {},
     "output_type": "execute_result"
    }
   ],
   "source": [
    "len(df_tweets_agosto)"
   ]
  },
  {
   "cell_type": "markdown",
   "metadata": {},
   "source": [
    "Para la sesión de Senadores, se cuenta con al rededor de 120k de tweets."
   ]
  },
  {
   "cell_type": "code",
   "execution_count": 11,
   "metadata": {},
   "outputs": [
    {
     "data": {
      "text/plain": [
       "(Timestamp('2018-08-03 00:47:52+0000', tz='UTC'),\n",
       " Timestamp('2018-08-03 00:47:52+0000', tz='UTC'))"
      ]
     },
     "execution_count": 11,
     "metadata": {},
     "output_type": "execute_result"
    }
   ],
   "source": [
    "df_tweets_agosto[\"created_at\"].min(), df_tweets_agosto[\"created_at\"].min()"
   ]
  },
  {
   "cell_type": "markdown",
   "metadata": {},
   "source": [
    "La gran cantidad de tweets menos se explica en que para este caso se recolectaron datos solamente el día de la sesión, y no antes y después."
   ]
  }
 ],
 "metadata": {
  "kernelspec": {
   "display_name": "Python 3",
   "language": "python",
   "name": "python3"
  },
  "language_info": {
   "codemirror_mode": {
    "name": "ipython",
    "version": 3
   },
   "file_extension": ".py",
   "mimetype": "text/x-python",
   "name": "python",
   "nbconvert_exporter": "python",
   "pygments_lexer": "ipython3",
   "version": "3.7.2"
  }
 },
 "nbformat": 4,
 "nbformat_minor": 2
}
