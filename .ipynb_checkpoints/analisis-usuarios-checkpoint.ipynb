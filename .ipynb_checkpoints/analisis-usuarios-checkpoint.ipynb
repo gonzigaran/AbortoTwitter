{
 "cells": [
  {
   "cell_type": "markdown",
   "metadata": {},
   "source": [
    "# Análisis de Usuarios"
   ]
  },
  {
   "cell_type": "code",
   "execution_count": 1,
   "metadata": {},
   "outputs": [],
   "source": [
    "import pandas as pd"
   ]
  },
  {
   "cell_type": "code",
   "execution_count": 26,
   "metadata": {},
   "outputs": [],
   "source": [
    "df_users_julio =  pd.read_csv('data/csvs/junio (diputades)/users.csv', parse_dates=['created_at'])"
   ]
  },
  {
   "cell_type": "code",
   "execution_count": 27,
   "metadata": {},
   "outputs": [],
   "source": [
    "df_users_agosto = pd.read_csv('data/csvs/agosto (senadores)/users_agosto.csv', parse_dates=['created_at'])"
   ]
  },
  {
   "cell_type": "code",
   "execution_count": 28,
   "metadata": {},
   "outputs": [
    {
     "data": {
      "text/plain": [
       "329782"
      ]
     },
     "execution_count": 28,
     "metadata": {},
     "output_type": "execute_result"
    }
   ],
   "source": [
    "len(df_users_julio)"
   ]
  },
  {
   "cell_type": "code",
   "execution_count": 29,
   "metadata": {},
   "outputs": [
    {
     "data": {
      "text/plain": [
       "74324"
      ]
     },
     "execution_count": 29,
     "metadata": {},
     "output_type": "execute_result"
    }
   ],
   "source": [
    "len(df_users_agosto)"
   ]
  },
  {
   "cell_type": "code",
   "execution_count": 19,
   "metadata": {},
   "outputs": [],
   "source": [
    "df_users = pd.read_csv('data/csvs/junio (diputades)/top_users_no.csv', parse_dates=['created_at'])"
   ]
  },
  {
   "cell_type": "code",
   "execution_count": 34,
   "metadata": {},
   "outputs": [
    {
     "data": {
      "text/plain": [
       "array(['Escalada casi Banfield,Bs As', 'Celaya, Guanajuato',\n",
       "       'Córdoba, Argentina', ..., '𝖍𝖋𝖐 𝖙𝖔𝖚𝖗 6.9',\n",
       "       'uruguay| tvd, pll, to, skam', 'San Martín de las Pirámides, M'],\n",
       "      dtype=object)"
      ]
     },
     "execution_count": 34,
     "metadata": {},
     "output_type": "execute_result"
    }
   ],
   "source": [
    "df_users_julio.location.unique()"
   ]
  },
  {
   "cell_type": "code",
   "execution_count": 36,
   "metadata": {},
   "outputs": [
    {
     "data": {
      "text/html": [
       "<div>\n",
       "<style scoped>\n",
       "    .dataframe tbody tr th:only-of-type {\n",
       "        vertical-align: middle;\n",
       "    }\n",
       "\n",
       "    .dataframe tbody tr th {\n",
       "        vertical-align: top;\n",
       "    }\n",
       "\n",
       "    .dataframe thead th {\n",
       "        text-align: right;\n",
       "    }\n",
       "</style>\n",
       "<table border=\"1\" class=\"dataframe\">\n",
       "  <thead>\n",
       "    <tr style=\"text-align: right;\">\n",
       "      <th></th>\n",
       "      <th>screen_name</th>\n",
       "      <th>location</th>\n",
       "      <th>followers_count</th>\n",
       "      <th>statuses_count</th>\n",
       "      <th>description</th>\n",
       "      <th>friends_count</th>\n",
       "      <th>favourites_count</th>\n",
       "      <th>created_at</th>\n",
       "      <th>id</th>\n",
       "      <th>name</th>\n",
       "      <th>verified</th>\n",
       "    </tr>\n",
       "  </thead>\n",
       "  <tbody>\n",
       "    <tr>\n",
       "      <th>0</th>\n",
       "      <td>beautyinarose</td>\n",
       "      <td>Escalada casi Banfield,Bs As</td>\n",
       "      <td>427</td>\n",
       "      <td>50613</td>\n",
       "      <td>Taladrista por adopción, pero ya en la sangre....</td>\n",
       "      <td>791</td>\n",
       "      <td>10199</td>\n",
       "      <td>2009-01-23 15:38:24+00:00</td>\n",
       "      <td>19398656</td>\n",
       "      <td>Jules Caccaglio</td>\n",
       "      <td>False</td>\n",
       "    </tr>\n",
       "    <tr>\n",
       "      <th>1</th>\n",
       "      <td>DanielMort_</td>\n",
       "      <td>Celaya, Guanajuato</td>\n",
       "      <td>722</td>\n",
       "      <td>18823</td>\n",
       "      <td>~ Admin de @DeditosHelp &amp; Mod de @dedreviil ~ ...</td>\n",
       "      <td>178</td>\n",
       "      <td>13596</td>\n",
       "      <td>2016-10-28 03:17:25+00:00</td>\n",
       "      <td>791841268879851520</td>\n",
       "      <td>DanielMort_ 🗡</td>\n",
       "      <td>False</td>\n",
       "    </tr>\n",
       "    <tr>\n",
       "      <th>2</th>\n",
       "      <td>VioleGallotti98</td>\n",
       "      <td>Córdoba, Argentina</td>\n",
       "      <td>1390</td>\n",
       "      <td>6576</td>\n",
       "      <td>Bariloche ‘15.</td>\n",
       "      <td>1107</td>\n",
       "      <td>13425</td>\n",
       "      <td>2014-07-25 18:07:57+00:00</td>\n",
       "      <td>2680160258</td>\n",
       "      <td>νισlєтα gαllσттι</td>\n",
       "      <td>False</td>\n",
       "    </tr>\n",
       "    <tr>\n",
       "      <th>3</th>\n",
       "      <td>Lucia_Achigar</td>\n",
       "      <td>Montevideo</td>\n",
       "      <td>631</td>\n",
       "      <td>3130</td>\n",
       "      <td>Fan de las versalitas.</td>\n",
       "      <td>876</td>\n",
       "      <td>11690</td>\n",
       "      <td>2011-03-04 00:15:24+00:00</td>\n",
       "      <td>260492029</td>\n",
       "      <td>Lucía Achigar 💚</td>\n",
       "      <td>False</td>\n",
       "    </tr>\n",
       "    <tr>\n",
       "      <th>4</th>\n",
       "      <td>florgimenezc</td>\n",
       "      <td>Córdoba, Argentina</td>\n",
       "      <td>1174</td>\n",
       "      <td>25947</td>\n",
       "      <td>Veintitrés del cuatro del noventa y seis. Dere...</td>\n",
       "      <td>360</td>\n",
       "      <td>9978</td>\n",
       "      <td>2012-05-08 16:59:21+00:00</td>\n",
       "      <td>574707030</td>\n",
       "      <td>peto</td>\n",
       "      <td>False</td>\n",
       "    </tr>\n",
       "  </tbody>\n",
       "</table>\n",
       "</div>"
      ],
      "text/plain": [
       "       screen_name                      location  followers_count  \\\n",
       "0    beautyinarose  Escalada casi Banfield,Bs As              427   \n",
       "1      DanielMort_            Celaya, Guanajuato              722   \n",
       "2  VioleGallotti98            Córdoba, Argentina             1390   \n",
       "3    Lucia_Achigar                    Montevideo              631   \n",
       "4     florgimenezc            Córdoba, Argentina             1174   \n",
       "\n",
       "   statuses_count                                        description  \\\n",
       "0           50613  Taladrista por adopción, pero ya en la sangre....   \n",
       "1           18823  ~ Admin de @DeditosHelp & Mod de @dedreviil ~ ...   \n",
       "2            6576                                     Bariloche ‘15.   \n",
       "3            3130                             Fan de las versalitas.   \n",
       "4           25947  Veintitrés del cuatro del noventa y seis. Dere...   \n",
       "\n",
       "   friends_count  favourites_count                created_at  \\\n",
       "0            791             10199 2009-01-23 15:38:24+00:00   \n",
       "1            178             13596 2016-10-28 03:17:25+00:00   \n",
       "2           1107             13425 2014-07-25 18:07:57+00:00   \n",
       "3            876             11690 2011-03-04 00:15:24+00:00   \n",
       "4            360              9978 2012-05-08 16:59:21+00:00   \n",
       "\n",
       "                   id              name  verified  \n",
       "0            19398656   Jules Caccaglio     False  \n",
       "1  791841268879851520     DanielMort_ 🗡     False  \n",
       "2          2680160258  νισlєтα gαllσттι     False  \n",
       "3           260492029   Lucía Achigar 💚     False  \n",
       "4           574707030              peto     False  "
      ]
     },
     "execution_count": 36,
     "metadata": {},
     "output_type": "execute_result"
    }
   ],
   "source": [
    "df_users_julio.head()"
   ]
  },
  {
   "cell_type": "code",
   "execution_count": 37,
   "metadata": {},
   "outputs": [
    {
     "data": {
      "text/plain": [
       "Index(['screen_name', 'location', 'followers_count', 'statuses_count',\n",
       "       'description', 'friends_count', 'favourites_count', 'created_at', 'id',\n",
       "       'name', 'verified'],\n",
       "      dtype='object')"
      ]
     },
     "execution_count": 37,
     "metadata": {},
     "output_type": "execute_result"
    }
   ],
   "source": [
    "df_users_julio.columns"
   ]
  },
  {
   "cell_type": "code",
   "execution_count": 38,
   "metadata": {},
   "outputs": [
    {
     "data": {
      "text/plain": [
       "Index(['screen_name', 'location', 'followers_count', 'statuses_count',\n",
       "       'description', 'friends_count', 'favourites_count', 'created_at', 'id',\n",
       "       'name', 'verified'],\n",
       "      dtype='object')"
      ]
     },
     "execution_count": 38,
     "metadata": {},
     "output_type": "execute_result"
    }
   ],
   "source": [
    "df_users_agosto.columns"
   ]
  },
  {
   "cell_type": "code",
   "execution_count": null,
   "metadata": {},
   "outputs": [],
   "source": []
  }
 ],
 "metadata": {
  "kernelspec": {
   "display_name": "Python 3",
   "language": "python",
   "name": "python3"
  },
  "language_info": {
   "codemirror_mode": {
    "name": "ipython",
    "version": 3
   },
   "file_extension": ".py",
   "mimetype": "text/x-python",
   "name": "python",
   "nbconvert_exporter": "python",
   "pygments_lexer": "ipython3",
   "version": "3.7.2"
  }
 },
 "nbformat": 4,
 "nbformat_minor": 2
}
